{
 "cells": [
  {
   "cell_type": "code",
   "execution_count": 1,
   "metadata": {},
   "outputs": [],
   "source": [
    "import pandas as pd\n",
    "\n",
    "new_data = pd.read_csv(\"feature_eng_withid.csv\")\n",
    "new_data.drop([\"Unnamed: 0\"],axis=1,inplace=True)"
   ]
  },
  {
   "cell_type": "code",
   "execution_count": 2,
   "metadata": {},
   "outputs": [],
   "source": [
    "from sklearn.model_selection import train_test_split\n",
    "\n",
    "X = new_data.drop(['LEN'],axis=1)\n",
    "y = new_data['LEN']\n",
    "\n",
    "x_train,x_test,y_train,y_test = train_test_split(X,y,test_size=0.2)"
   ]
  },
  {
   "cell_type": "code",
   "execution_count": 3,
   "metadata": {},
   "outputs": [
    {
     "name": "stderr",
     "output_type": "stream",
     "text": [
      "/home/aaron/anaconda3/envs/cv/lib/python3.10/site-packages/pytorch_tabnet/abstract_model.py:75: UserWarning: Device used : cuda\n",
      "  warnings.warn(f\"Device used : {self.device}\")\n"
     ]
    },
    {
     "name": "stdout",
     "output_type": "stream",
     "text": [
      "epoch 0  | loss: 471006.16858| val_0_mse: 459279.84297|  0:01:46s\n",
      "epoch 1  | loss: 416206.53728| val_0_mse: 459265.18074|  0:03:30s\n",
      "epoch 2  | loss: 414882.12998| val_0_mse: 458768.20485|  0:05:16s\n",
      "epoch 3  | loss: 413281.29157| val_0_mse: 455859.82768|  0:07:08s\n",
      "epoch 4  | loss: 413114.22867| val_0_mse: 470771.88311|  0:09:16s\n",
      "epoch 5  | loss: 413044.09437| val_0_mse: 450461.6183|  0:11:02s\n",
      "epoch 6  | loss: 411964.82216| val_0_mse: 445244.6709|  0:12:25s\n",
      "epoch 7  | loss: 410609.74537| val_0_mse: 461738.9553|  0:13:37s\n",
      "epoch 8  | loss: 410835.89216| val_0_mse: 447914.16257|  0:14:54s\n",
      "epoch 9  | loss: 410205.12831| val_0_mse: 473164.58839|  0:16:06s\n",
      "epoch 10 | loss: 410939.44246| val_0_mse: 467412.30498|  0:17:21s\n",
      "epoch 11 | loss: 409995.90915| val_0_mse: 450389.83353|  0:18:36s\n",
      "epoch 12 | loss: 409855.99419| val_0_mse: 449814.48521|  0:19:47s\n",
      "epoch 13 | loss: 409949.53151| val_0_mse: 445925.94382|  0:20:57s\n",
      "epoch 14 | loss: 410127.59381| val_0_mse: 443783.46638|  0:22:14s\n",
      "epoch 15 | loss: 409642.19148| val_0_mse: 443883.6957|  0:23:30s\n",
      "epoch 16 | loss: 409945.13512| val_0_mse: 468709.78809|  0:24:46s\n",
      "epoch 17 | loss: 409428.37751| val_0_mse: 446842.29656|  0:26:03s\n",
      "epoch 18 | loss: 409624.49972| val_0_mse: 476540.0304|  0:27:18s\n",
      "epoch 19 | loss: 409677.59125| val_0_mse: 460100.31944|  0:28:34s\n",
      "epoch 20 | loss: 409301.86033| val_0_mse: 456994.97429|  0:29:50s\n",
      "epoch 21 | loss: 409217.09334| val_0_mse: 457538.76881|  0:30:58s\n",
      "epoch 22 | loss: 408721.90735| val_0_mse: 450576.36006|  0:32:10s\n",
      "epoch 23 | loss: 409513.17827| val_0_mse: 468018.45971|  0:33:24s\n",
      "epoch 24 | loss: 409234.90074| val_0_mse: 519155.76248|  0:34:39s\n",
      "\n",
      "Early stopping occurred at epoch 24 with best_epoch = 14 and best_val_0_mse = 443783.46638\n"
     ]
    },
    {
     "name": "stderr",
     "output_type": "stream",
     "text": [
      "/home/aaron/anaconda3/envs/cv/lib/python3.10/site-packages/pytorch_tabnet/callbacks.py:172: UserWarning: Best weights from best epoch are automatically used!\n",
      "  warnings.warn(wrn_msg)\n"
     ]
    }
   ],
   "source": [
    "from pytorch_tabnet.tab_model import TabNetRegressor\n",
    "\n",
    "reg = TabNetRegressor()  #TabNetRegressor()\n",
    "\n",
    "reg.fit(\n",
    "  x_train.values, y_train.values.reshape(-1,1),\n",
    "  eval_set=[(x_test.values, y_test.values.reshape(-1,1))]\n",
    ")\n"
   ]
  },
  {
   "cell_type": "code",
   "execution_count": 4,
   "metadata": {},
   "outputs": [
    {
     "name": "stdout",
     "output_type": "stream",
     "text": [
      "RMSE = 666.170748665465\n"
     ]
    }
   ],
   "source": [
    "from sklearn.metrics import mean_squared_error\n",
    "import numpy as np\n",
    "\n",
    "\n",
    "y_pred = reg.predict(x_test.values)\n",
    "\n",
    "mse_value = mean_squared_error(y_test, y_pred)\n",
    "print(f\"RMSE = {np.sqrt(mse_value)}\")"
   ]
  },
  {
   "cell_type": "code",
   "execution_count": 5,
   "metadata": {},
   "outputs": [],
   "source": [
    "test_data = pd.read_csv(\"test_public_features.csv\")\n",
    "\n",
    "test_data = test_data.drop(['Unnamed: 0'],axis=1)\n",
    "\n",
    "\n",
    "# predict the results\n",
    "ypred_result = reg.predict(test_data.values)\n",
    "\n",
    "sample = pd.read_csv(\"sample_xgboost.csv\",index_col=\"TRIP_ID\")\n",
    "\n",
    "sample['TRAVEL_TIME'] = ypred_result\n",
    "\n",
    "sample.to_csv(\"sample_tabnet.csv\")\n"
   ]
  },
  {
   "cell_type": "code",
   "execution_count": null,
   "metadata": {},
   "outputs": [],
   "source": []
  }
 ],
 "metadata": {
  "kernelspec": {
   "display_name": "cv",
   "language": "python",
   "name": "python3"
  },
  "language_info": {
   "codemirror_mode": {
    "name": "ipython",
    "version": 3
   },
   "file_extension": ".py",
   "mimetype": "text/x-python",
   "name": "python",
   "nbconvert_exporter": "python",
   "pygments_lexer": "ipython3",
   "version": "3.10.6"
  },
  "orig_nbformat": 4
 },
 "nbformat": 4,
 "nbformat_minor": 2
}
