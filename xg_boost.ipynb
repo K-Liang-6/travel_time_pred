{
 "cells": [
  {
   "cell_type": "code",
   "execution_count": 105,
   "metadata": {},
   "outputs": [],
   "source": [
    "import pandas as pd\n",
    "import numpy as np\n",
    "import xgboost as xgb\n",
    "from sklearn.model_selection import train_test_split"
   ]
  },
  {
   "cell_type": "code",
   "execution_count": 106,
   "metadata": {},
   "outputs": [],
   "source": [
    "data = pd.read_csv(\"feature_eng_cat.csv\")"
   ]
  },
  {
   "cell_type": "code",
   "execution_count": 107,
   "metadata": {},
   "outputs": [],
   "source": [
    "X = data.drop(['LEN',\"Unnamed: 0\"],axis=1)\n",
    "y = data['LEN']"
   ]
  },
  {
   "cell_type": "code",
   "execution_count": 126,
   "metadata": {},
   "outputs": [],
   "source": [
    "from sklearn.preprocessing import OneHotEncoder\n",
    "\n",
    "one_hot = OneHotEncoder()\n",
    "one_hot.fit(X[[ 'MON','DAY', 'HR', 'WK','TAXI_ID_CAT','ORIGIN_STAND_CAT','ORIGIN_CALL_CAT']].values)\n",
    "\n",
    "one_hot_output = one_hot.transform(X[['MON','DAY', 'HR', 'WK','TAXI_ID_CAT','ORIGIN_STAND_CAT','ORIGIN_CALL_CAT']].values)\n",
    "\n",
    "\n",
    "columns=[f\"MON_{i}\" for i in range(1,13)] + [f\"DAT_{i}\" for i in range(1,32)] + [f\"HR_{i}\" for i in range(24)] + [f\"WK_{i}\" for i in range(7)] + [f\"TAXI_{i}\" for i in range(442)] + [f\"STAND_{i}\" for i in range(64)] + [f\"CALL_{i}\" for i in range(254)] "
   ]
  },
  {
   "cell_type": "code",
   "execution_count": 127,
   "metadata": {},
   "outputs": [],
   "source": [
    "one_hot_frame = pd.DataFrame(one_hot_output.toarray(),columns=columns)\n",
    "df_processed = X.join(one_hot_frame)"
   ]
  },
  {
   "cell_type": "code",
   "execution_count": 128,
   "metadata": {},
   "outputs": [],
   "source": [
    "df_processed.drop(['MON','DAY', 'HR', 'WK','TAXI_ID_CAT','ORIGIN_STAND_CAT','ORIGIN_CALL_CAT'],axis=1,inplace=True)"
   ]
  },
  {
   "cell_type": "code",
   "execution_count": 129,
   "metadata": {},
   "outputs": [],
   "source": [
    "x_train,x_test,y_train,y_test = train_test_split(df_processed,y,test_size=0.2)"
   ]
  },
  {
   "cell_type": "code",
   "execution_count": 130,
   "metadata": {},
   "outputs": [],
   "source": [
    "dtrain = xgb.DMatrix(x_train, label=y_train)\n",
    "dtest = xgb.DMatrix(x_test, label=y_test)"
   ]
  },
  {
   "attachments": {},
   "cell_type": "markdown",
   "metadata": {},
   "source": [
    "## Start training"
   ]
  },
  {
   "cell_type": "code",
   "execution_count": 131,
   "metadata": {},
   "outputs": [],
   "source": [
    "params = {\n",
    "    'booster': 'gbtree',\n",
    "    'objective': 'reg:squarederror',  # 多分类的问题\n",
    "    'gamma': 0.1,                  # 用于控制是否后剪枝的参数,越大越保守，一般0.1、0.2这样子。\n",
    "    'max_depth': 12,               # 构建树的深度，越大越容易过拟合\n",
    "    'lambda': 2,                   # 控制模型复杂度的权重值的L2正则化项参数，参数越大，模型越不容易过拟合。\n",
    "    'subsample': 0.7,              # 随机采样训练样本\n",
    "    'colsample_bytree': 0.7,       # 生成树时进行的列采样\n",
    "    'min_child_weight': 3,\n",
    "    'silent': 1,                   # 设置成1则没有运行信息输出，最好是设置为0.\n",
    "    'eta': 0.1,                  # 如同学习率\n",
    "    'seed': 1000,\n",
    "    'nthread': 8,                  # cpu 线程数\n",
    "}"
   ]
  },
  {
   "cell_type": "code",
   "execution_count": 132,
   "metadata": {},
   "outputs": [
    {
     "name": "stdout",
     "output_type": "stream",
     "text": [
      "[14:01:17] WARNING: ../src/learner.cc:767: \n",
      "Parameters: { \"silent\" } are not used.\n",
      "\n",
      "[0]\teval-rmse:947.05415\n",
      "[1]\teval-rmse:899.62740\n",
      "[2]\teval-rmse:858.92524\n",
      "[3]\teval-rmse:824.75130\n",
      "[4]\teval-rmse:795.50083\n",
      "[5]\teval-rmse:771.23117\n",
      "[6]\teval-rmse:750.76635\n",
      "[7]\teval-rmse:733.43299\n",
      "[8]\teval-rmse:719.71734\n",
      "[9]\teval-rmse:708.05304\n",
      "[10]\teval-rmse:698.51835\n",
      "[11]\teval-rmse:690.03607\n",
      "[12]\teval-rmse:683.50554\n",
      "[13]\teval-rmse:677.54501\n",
      "[14]\teval-rmse:673.08173\n",
      "[15]\teval-rmse:668.90543\n",
      "[16]\teval-rmse:665.90788\n",
      "[17]\teval-rmse:663.03284\n",
      "[18]\teval-rmse:660.69239\n",
      "[19]\teval-rmse:658.74315\n",
      "[20]\teval-rmse:657.15114\n",
      "[21]\teval-rmse:655.96747\n",
      "[22]\teval-rmse:654.59440\n",
      "[23]\teval-rmse:653.59669\n",
      "[24]\teval-rmse:652.98516\n",
      "[25]\teval-rmse:652.36481\n",
      "[26]\teval-rmse:651.79847\n",
      "[27]\teval-rmse:651.31515\n",
      "[28]\teval-rmse:650.83162\n",
      "[29]\teval-rmse:650.40849\n",
      "[30]\teval-rmse:650.01207\n",
      "[31]\teval-rmse:649.74520\n",
      "[32]\teval-rmse:649.59912\n",
      "[33]\teval-rmse:649.40930\n",
      "[34]\teval-rmse:649.24375\n",
      "[35]\teval-rmse:649.05389\n",
      "[36]\teval-rmse:648.84439\n",
      "[37]\teval-rmse:648.73033\n",
      "[38]\teval-rmse:648.64974\n",
      "[39]\teval-rmse:648.49445\n",
      "[40]\teval-rmse:648.53210\n",
      "[41]\teval-rmse:648.53530\n",
      "[42]\teval-rmse:648.44523\n",
      "[43]\teval-rmse:648.25502\n",
      "[44]\teval-rmse:648.08942\n",
      "[45]\teval-rmse:647.75328\n",
      "[46]\teval-rmse:647.70132\n",
      "[47]\teval-rmse:647.57412\n",
      "[48]\teval-rmse:647.55311\n",
      "[49]\teval-rmse:647.43641\n",
      "[50]\teval-rmse:647.18969\n",
      "[51]\teval-rmse:647.12225\n",
      "[52]\teval-rmse:647.04248\n",
      "[53]\teval-rmse:646.87697\n",
      "[54]\teval-rmse:646.84260\n",
      "[55]\teval-rmse:646.81380\n",
      "[56]\teval-rmse:646.59320\n",
      "[57]\teval-rmse:646.42844\n",
      "[58]\teval-rmse:646.30000\n",
      "[59]\teval-rmse:646.15786\n",
      "[60]\teval-rmse:645.93257\n",
      "[61]\teval-rmse:645.64909\n",
      "[62]\teval-rmse:645.63336\n",
      "[63]\teval-rmse:645.68805\n",
      "[64]\teval-rmse:645.63712\n",
      "[65]\teval-rmse:645.52281\n",
      "[66]\teval-rmse:645.46204\n",
      "[67]\teval-rmse:645.48088\n",
      "[68]\teval-rmse:645.35528\n",
      "[69]\teval-rmse:645.27439\n",
      "[70]\teval-rmse:645.17316\n",
      "[71]\teval-rmse:645.17224\n",
      "[72]\teval-rmse:645.10881\n",
      "[73]\teval-rmse:645.13010\n",
      "[74]\teval-rmse:645.03338\n",
      "[75]\teval-rmse:645.07292\n",
      "[76]\teval-rmse:645.00202\n",
      "[77]\teval-rmse:644.86452\n",
      "[78]\teval-rmse:644.80682\n",
      "[79]\teval-rmse:644.76029\n",
      "[80]\teval-rmse:644.71416\n",
      "[81]\teval-rmse:644.57679\n",
      "[82]\teval-rmse:644.45701\n",
      "[83]\teval-rmse:644.37493\n",
      "[84]\teval-rmse:644.35781\n",
      "[85]\teval-rmse:644.33371\n",
      "[86]\teval-rmse:644.32613\n",
      "[87]\teval-rmse:644.26764\n",
      "[88]\teval-rmse:644.22753\n",
      "[89]\teval-rmse:644.19872\n",
      "[90]\teval-rmse:644.14855\n",
      "[91]\teval-rmse:644.11775\n",
      "[92]\teval-rmse:644.07403\n",
      "[93]\teval-rmse:644.03849\n",
      "[94]\teval-rmse:644.01707\n",
      "[95]\teval-rmse:643.97848\n",
      "[96]\teval-rmse:643.93690\n",
      "[97]\teval-rmse:643.87817\n",
      "[98]\teval-rmse:643.85543\n",
      "[99]\teval-rmse:643.75740\n",
      "[100]\teval-rmse:643.71722\n",
      "[101]\teval-rmse:643.69487\n",
      "[102]\teval-rmse:643.63152\n",
      "[103]\teval-rmse:643.64483\n",
      "[104]\teval-rmse:643.58655\n",
      "[105]\teval-rmse:643.46310\n",
      "[106]\teval-rmse:643.49766\n",
      "[107]\teval-rmse:643.43569\n",
      "[108]\teval-rmse:643.42560\n",
      "[109]\teval-rmse:643.42773\n",
      "[110]\teval-rmse:643.45438\n",
      "[111]\teval-rmse:643.44868\n",
      "[112]\teval-rmse:643.45081\n",
      "[113]\teval-rmse:643.42002\n",
      "[114]\teval-rmse:643.38596\n",
      "[115]\teval-rmse:643.38397\n",
      "[116]\teval-rmse:643.42819\n",
      "[117]\teval-rmse:643.39040\n",
      "[118]\teval-rmse:643.38957\n",
      "[119]\teval-rmse:643.28201\n",
      "[120]\teval-rmse:643.21373\n",
      "[121]\teval-rmse:643.14700\n",
      "[122]\teval-rmse:643.14337\n",
      "[123]\teval-rmse:643.08006\n",
      "[124]\teval-rmse:643.05448\n",
      "[125]\teval-rmse:643.02697\n",
      "[126]\teval-rmse:642.99742\n",
      "[127]\teval-rmse:643.01245\n",
      "[128]\teval-rmse:643.00017\n",
      "[129]\teval-rmse:642.95184\n",
      "[130]\teval-rmse:642.91629\n",
      "[131]\teval-rmse:642.92218\n",
      "[132]\teval-rmse:642.89771\n",
      "[133]\teval-rmse:642.85416\n",
      "[134]\teval-rmse:642.72966\n",
      "[135]\teval-rmse:642.69370\n",
      "[136]\teval-rmse:642.65633\n",
      "[137]\teval-rmse:642.59099\n",
      "[138]\teval-rmse:642.52753\n",
      "[139]\teval-rmse:642.51477\n",
      "[140]\teval-rmse:642.53804\n",
      "[141]\teval-rmse:642.59366\n",
      "[142]\teval-rmse:642.56511\n",
      "[143]\teval-rmse:642.58893\n",
      "[144]\teval-rmse:642.57034\n",
      "[145]\teval-rmse:642.51793\n",
      "[146]\teval-rmse:642.50659\n",
      "[147]\teval-rmse:642.46966\n",
      "[148]\teval-rmse:642.43304\n",
      "[149]\teval-rmse:642.35593\n",
      "[150]\teval-rmse:642.33228\n",
      "[151]\teval-rmse:642.35661\n",
      "[152]\teval-rmse:642.34607\n",
      "[153]\teval-rmse:642.31588\n",
      "[154]\teval-rmse:642.31673\n",
      "[155]\teval-rmse:642.28488\n",
      "[156]\teval-rmse:642.26025\n",
      "[157]\teval-rmse:642.23415\n",
      "[158]\teval-rmse:642.21248\n",
      "[159]\teval-rmse:642.19427\n",
      "[160]\teval-rmse:642.13688\n",
      "[161]\teval-rmse:642.12999\n",
      "[162]\teval-rmse:642.14727\n",
      "[163]\teval-rmse:642.11579\n",
      "[164]\teval-rmse:642.07268\n",
      "[165]\teval-rmse:642.02544\n",
      "[166]\teval-rmse:642.02014\n",
      "[167]\teval-rmse:642.01651\n",
      "[168]\teval-rmse:642.01510\n",
      "[169]\teval-rmse:642.01099\n",
      "[170]\teval-rmse:642.03151\n",
      "[171]\teval-rmse:642.01227\n",
      "[172]\teval-rmse:641.94143\n",
      "[173]\teval-rmse:642.02802\n",
      "[174]\teval-rmse:642.04904\n",
      "[175]\teval-rmse:642.05002\n",
      "[176]\teval-rmse:642.02363\n",
      "[177]\teval-rmse:641.96455\n",
      "[178]\teval-rmse:641.93569\n",
      "[179]\teval-rmse:641.90256\n",
      "[180]\teval-rmse:641.91095\n",
      "[181]\teval-rmse:641.90275\n",
      "[182]\teval-rmse:641.95149\n",
      "[183]\teval-rmse:641.92383\n",
      "[184]\teval-rmse:641.93193\n",
      "[185]\teval-rmse:642.01817\n",
      "[186]\teval-rmse:642.01702\n",
      "[187]\teval-rmse:641.94596\n",
      "[188]\teval-rmse:641.93276\n"
     ]
    }
   ],
   "source": [
    "bst = xgb.train(\n",
    "    params=params,\n",
    "    dtrain=dtrain,\n",
    "    num_boost_round=500,\n",
    "    early_stopping_rounds=10,\n",
    "    evals=[(dtest,'eval')]\n",
    ")"
   ]
  },
  {
   "cell_type": "code",
   "execution_count": 133,
   "metadata": {},
   "outputs": [
    {
     "name": "stdout",
     "output_type": "stream",
     "text": [
      "RMSE = 641.9264884546042\n"
     ]
    }
   ],
   "source": [
    "from sklearn.metrics import mean_squared_error\n",
    "ypred = bst.predict(dtest)\n",
    "mse_value = mean_squared_error(y_test, ypred)\n",
    "print(f\"RMSE = {np.sqrt(mse_value)}\")"
   ]
  },
  {
   "attachments": {},
   "cell_type": "markdown",
   "metadata": {},
   "source": [
    "* Load test data"
   ]
  },
  {
   "cell_type": "code",
   "execution_count": 134,
   "metadata": {},
   "outputs": [],
   "source": [
    "test_data = pd.read_csv(\"test_public_features_cat.csv\")\n",
    "# one_hot_output = one_hot.transform(test_data[['TAXI_ID_CAT','ORIGIN_STAND_CAT']].values)\n",
    "# columns=[f\"TAXI_{i}\" for i in range(448)] + [f\"STAND_{i}\" for i in range(64)]\n",
    "\n",
    "one_hot_output = one_hot.transform(X[['MON','DAY', 'HR', 'WK','TAXI_ID_CAT','ORIGIN_STAND_CAT','ORIGIN_CALL_CAT']].values)\n",
    "one_hot_frame = pd.DataFrame(one_hot_output.toarray(),columns=columns)\n",
    "\n",
    "test_data = test_data.join(one_hot_frame)\n",
    "\n",
    "# test_data.drop(['TAXI_ID_CAT','ORIGIN_STAND_CAT','ORIGIN_CALL_CAT'],axis=1,inplace=True)\n",
    "test_data.drop(['MON','DAY', 'HR', 'WK','TAXI_ID_CAT','ORIGIN_STAND_CAT','ORIGIN_CALL_CAT'],axis=1,inplace=True)"
   ]
  },
  {
   "cell_type": "code",
   "execution_count": 135,
   "metadata": {},
   "outputs": [],
   "source": [
    "test_data = test_data.drop(['Unnamed: 0'],axis=1)\n",
    "dtest_public = xgb.DMatrix(test_data)\n",
    "\n",
    "# predict the results\n",
    "ypred_result = bst.predict(dtest_public)"
   ]
  },
  {
   "cell_type": "code",
   "execution_count": 138,
   "metadata": {},
   "outputs": [],
   "source": [
    "sample = pd.read_csv(\"sample_xgboost.csv\",index_col=\"TRIP_ID\")\n",
    "\n",
    "sample['TRAVEL_TIME'] = ypred_result"
   ]
  },
  {
   "cell_type": "code",
   "execution_count": 139,
   "metadata": {},
   "outputs": [],
   "source": [
    "sample.to_csv(\"sample_xgboost.csv\")"
   ]
  },
  {
   "cell_type": "code",
   "execution_count": null,
   "metadata": {},
   "outputs": [],
   "source": []
  }
 ],
 "metadata": {
  "kernelspec": {
   "display_name": "cv",
   "language": "python",
   "name": "python3"
  },
  "language_info": {
   "codemirror_mode": {
    "name": "ipython",
    "version": 3
   },
   "file_extension": ".py",
   "mimetype": "text/x-python",
   "name": "python",
   "nbconvert_exporter": "python",
   "pygments_lexer": "ipython3",
   "version": "3.10.6"
  },
  "orig_nbformat": 4
 },
 "nbformat": 4,
 "nbformat_minor": 2
}
