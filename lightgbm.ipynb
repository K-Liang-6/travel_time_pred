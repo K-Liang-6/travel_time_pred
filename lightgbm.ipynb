{
 "cells": [
  {
   "cell_type": "code",
   "execution_count": 11,
   "metadata": {},
   "outputs": [],
   "source": [
    "import lightgbm as lgb\n",
    "import pandas as pd\n",
    "import numpy as np\n",
    "from sklearn.model_selection import train_test_split\n",
    "from sklearn.preprocessing import OneHotEncoder"
   ]
  },
  {
   "cell_type": "code",
   "execution_count": 12,
   "metadata": {},
   "outputs": [],
   "source": [
    "data = pd.read_csv(\"feature_eng_cat.csv\")\n",
    "\n",
    "X = data.drop(['LEN',\"Unnamed: 0\"],axis=1)\n",
    "y = data['LEN']\n",
    "\n",
    "\n",
    "\n",
    "one_hot = OneHotEncoder()\n",
    "one_hot.fit(X[[ 'MON','DAY', 'HR', 'WK','TAXI_ID_CAT','ORIGIN_STAND_CAT','ORIGIN_CALL_CAT']].values)\n",
    "\n",
    "one_hot_output = one_hot.transform(X[['MON','DAY', 'HR', 'WK','TAXI_ID_CAT','ORIGIN_STAND_CAT','ORIGIN_CALL_CAT']].values)\n",
    "\n",
    "\n",
    "columns=[f\"MON_{i}\" for i in range(1,13)] + [f\"DAT_{i}\" for i in range(1,32)] + [f\"HR_{i}\" for i in range(24)] + [f\"WK_{i}\" for i in range(7)] + [f\"TAXI_{i}\" for i in range(442)] + [f\"STAND_{i}\" for i in range(64)] + [f\"CALL_{i}\" for i in range(254)] \n",
    "one_hot_frame = pd.DataFrame(one_hot_output.toarray(),columns=columns)\n",
    "df_processed = X.join(one_hot_frame)\n",
    "df_processed.drop(['MON','DAY', 'HR', 'WK','TAXI_ID_CAT','ORIGIN_STAND_CAT','ORIGIN_CALL_CAT'],axis=1,inplace=True)\n",
    "\n",
    "\n",
    "x_train,x_test,y_train,y_test = train_test_split(df_processed,y,test_size=0.2)"
   ]
  },
  {
   "cell_type": "code",
   "execution_count": 16,
   "metadata": {},
   "outputs": [
    {
     "name": "stderr",
     "output_type": "stream",
     "text": [
      "/home/aaron/anaconda3/envs/cv/lib/python3.10/site-packages/lightgbm/engine.py:181: UserWarning: 'early_stopping_rounds' argument is deprecated and will be removed in a future release of LightGBM. Pass 'early_stopping()' callback via 'callbacks' argument instead.\n",
      "  _log_warning(\"'early_stopping_rounds' argument is deprecated and will be removed in a future release of LightGBM. \"\n"
     ]
    },
    {
     "name": "stdout",
     "output_type": "stream",
     "text": [
      "[LightGBM] [Warning] Auto-choosing row-wise multi-threading, the overhead of testing was 3.059784 seconds.\n",
      "You can set `force_row_wise=true` to remove the overhead.\n",
      "And if memory is not enough, you can set `force_col_wise=true`.\n",
      "[LightGBM] [Info] Total Bins 1796\n",
      "[LightGBM] [Info] Number of data points in the train set: 1339321, number of used features: 867\n",
      "[LightGBM] [Info] Start training from score 731.341202\n",
      "[1]\tvalid_0's l2: 479782\tvalid_0's auc: 1\n",
      "Training until validation scores don't improve for 10 rounds\n",
      "[2]\tvalid_0's l2: 474907\tvalid_0's auc: 1\n",
      "[3]\tvalid_0's l2: 470973\tvalid_0's auc: 1\n",
      "[4]\tvalid_0's l2: 467615\tvalid_0's auc: 1\n",
      "[5]\tvalid_0's l2: 464970\tvalid_0's auc: 1\n",
      "[6]\tvalid_0's l2: 462717\tvalid_0's auc: 1\n",
      "[7]\tvalid_0's l2: 460656\tvalid_0's auc: 1\n",
      "[8]\tvalid_0's l2: 459079\tvalid_0's auc: 1\n",
      "[9]\tvalid_0's l2: 457719\tvalid_0's auc: 1\n",
      "[10]\tvalid_0's l2: 456603\tvalid_0's auc: 1\n",
      "[11]\tvalid_0's l2: 455386\tvalid_0's auc: 1\n",
      "Early stopping, best iteration is:\n",
      "[1]\tvalid_0's l2: 479782\tvalid_0's auc: 1\n"
     ]
    }
   ],
   "source": [
    "# 转换为Dataset数据格式\n",
    "# category_list = ['TAXI_ID_CAT', 'ORIGIN_CALL_CAT', 'ORIGIN_STAND_CAT']\n",
    "# for ft in category_list:\n",
    "#        x_train[ft] = x_train[ft].astype('category')\n",
    "#        x_test[ft] = x_test[ft].astype('category')\n",
    "\n",
    "lgb_train = lgb.Dataset(x_train, y_train)\n",
    "lgb_eval = lgb.Dataset(x_test, y_test, reference=lgb_train)\n",
    "\n",
    "# 参数\n",
    "params = {\n",
    "    'task': 'train',\n",
    "    'boosting_type': 'gbdt',  # 设置提升类型\n",
    "    'objective': 'regression',  # 目标函数\n",
    "    'metric': {'l2', 'auc'},  # 评估函数\n",
    "    'num_leaves': 35,  # 叶子节点数\n",
    "    'learning_rate': 0.1,  # 学习速率\n",
    "    'feature_fraction': 0.9,  # 建树的特征选择比例\n",
    "    'bagging_fraction': 0.8,  # 建树的样本采样比例\n",
    "    'bagging_freq': 5,  # k 意味着每 k 次迭代执行bagging\n",
    "    'verbose': 1  # <0 显示致命的, =0 显示错误 (警告), >0 显示信息\n",
    "}\n",
    "\n",
    "# 模型训练\n",
    "gbm = lgb.train(params, lgb_train, num_boost_round=500, valid_sets=lgb_eval, early_stopping_rounds=10)"
   ]
  },
  {
   "cell_type": "code",
   "execution_count": 14,
   "metadata": {},
   "outputs": [
    {
     "name": "stdout",
     "output_type": "stream",
     "text": [
      "RMSE = 689.0865688175828\n"
     ]
    }
   ],
   "source": [
    "from sklearn.metrics import mean_squared_error\n",
    "\n",
    "y_pred = gbm.predict(x_test, num_iteration=gbm.best_iteration)\n",
    "mse_value = mean_squared_error(y_test, y_pred)\n",
    "print(f\"RMSE = {np.sqrt(mse_value)}\")"
   ]
  },
  {
   "cell_type": "code",
   "execution_count": 17,
   "metadata": {},
   "outputs": [],
   "source": [
    "test_data = pd.read_csv(\"test_public_features_cat.csv\")\n",
    "\n",
    "test_data = test_data.drop(['Unnamed: 0'],axis=1)\n",
    "\n",
    "one_hot_output = one_hot.transform(X[['MON','DAY', 'HR', 'WK','TAXI_ID_CAT','ORIGIN_STAND_CAT','ORIGIN_CALL_CAT']].values)\n",
    "one_hot_frame = pd.DataFrame(one_hot_output.toarray(),columns=columns)\n",
    "\n",
    "test_data = test_data.join(one_hot_frame)\n",
    "test_data.drop(['MON','DAY', 'HR', 'WK','TAXI_ID_CAT','ORIGIN_STAND_CAT','ORIGIN_CALL_CAT'],axis=1,inplace=True)\n",
    "\n",
    "\n",
    "# predict the results\n",
    "ypred_result = gbm.predict(test_data)\n",
    "\n",
    "sample = pd.read_csv(\"sample_xgboost.csv\",index_col=\"TRIP_ID\")\n",
    "\n",
    "sample['TRAVEL_TIME'] = ypred_result\n",
    "\n",
    "sample.to_csv(\"sample_lightgbm.csv\")\n"
   ]
  },
  {
   "cell_type": "code",
   "execution_count": null,
   "metadata": {},
   "outputs": [],
   "source": []
  }
 ],
 "metadata": {
  "kernelspec": {
   "display_name": "cv",
   "language": "python",
   "name": "python3"
  },
  "language_info": {
   "codemirror_mode": {
    "name": "ipython",
    "version": 3
   },
   "file_extension": ".py",
   "mimetype": "text/x-python",
   "name": "python",
   "nbconvert_exporter": "python",
   "pygments_lexer": "ipython3",
   "version": "3.10.6"
  },
  "orig_nbformat": 4
 },
 "nbformat": 4,
 "nbformat_minor": 2
}
